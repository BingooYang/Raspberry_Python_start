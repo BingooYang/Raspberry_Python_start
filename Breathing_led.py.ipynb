{
 "cells": [
  {
   "cell_type": "code",
   "execution_count": null,
   "metadata": {},
   "outputs": [],
   "source": [
    "import RPi.GPIO as GPIO\n",
    "import time\n",
    "\n",
    "GPIO.setmode(GPIO.BCM)\n",
    "GPIO.setwarnings(False)\n",
    "GPIO.setup(21,GPIO.OUT)\n",
    "\n",
    "p = GPIO.PWM(21,1000)\n",
    "p.start(0)\n",
    "\n",
    "i = 0\n",
    "m = 0\n",
    "j = 20 \n",
    "while(j):\n",
    "    i = i + 1\n",
    "    time.sleep(0.015)\n",
    "    if(m%2):\n",
    "        p.ChangeDutyCycle(i)  \n",
    "    else:\n",
    "        p.ChangeDutyCycle(100-i)          \n",
    "    if(i == 100):\n",
    "        m = 1 + m\n",
    "        i = 0\n",
    "        j = j -1\n",
    "\n",
    "p.stop(21)\n",
    "GPIO.cleanup(17)\n"
   ]
  }
 ],
 "metadata": {
  "kernelspec": {
   "display_name": "Python 3",
   "language": "python",
   "name": "python3"
  },
  "language_info": {
   "codemirror_mode": {
    "name": "ipython",
    "version": 3
   },
   "file_extension": ".py",
   "mimetype": "text/x-python",
   "name": "python",
   "nbconvert_exporter": "python",
   "pygments_lexer": "ipython3",
   "version": "3.5.3"
  }
 },
 "nbformat": 4,
 "nbformat_minor": 2
}
