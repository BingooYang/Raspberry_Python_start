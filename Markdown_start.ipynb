{
 "cells": [
  {
   "cell_type": "markdown",
   "metadata": {},
   "source": [
    "# 一级标题\n",
    "## 二级标题\n",
    "### 三级标题\n",
    "\n",
    "\n",
    "大标题\n",
    "===\n",
    "小标题\n",
    "---\n",
    "\n",
    "*斜体＊    \n",
    "\n",
    "**粗体**\n",
    "~~删除线~~\n",
    "`重点`\n",
    "\n",
    "***\n",
    "\n",
    "- 标题1\n",
    "- 标题2\n",
    "\n",
    "1. 标题1\n",
    "2. 标题2\n",
    "\n",
    "[GitHub](http://github.com)\n",
    "\n",
    "```c\n",
    "#inclede <stdio.h>\n",
    "int main()\n",
    "{\n",
    "  printf(\"Hello world\");\n",
    "}\n",
    "```\n",
    "\n",
    "```python\n",
    "import RPi.GPIO as GPIO\n",
    "```\n",
    "\n",
    "\n"
   ]
  }
 ],
 "metadata": {
  "kernelspec": {
   "display_name": "Python 3",
   "language": "python",
   "name": "python3"
  },
  "language_info": {
   "codemirror_mode": {
    "name": "ipython",
    "version": 3
   },
   "file_extension": ".py",
   "mimetype": "text/x-python",
   "name": "python",
   "nbconvert_exporter": "python",
   "pygments_lexer": "ipython3",
   "version": "3.5.3"
  }
 },
 "nbformat": 4,
 "nbformat_minor": 2
}
